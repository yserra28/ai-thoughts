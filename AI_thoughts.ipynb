{
  "nbformat": 4,
  "nbformat_minor": 0,
  "metadata": {
    "colab": {
      "provenance": [],
      "authorship_tag": "ABX9TyOMR4DY4GlZyk55+4gtbULJ",
      "include_colab_link": true
    },
    "kernelspec": {
      "name": "python3",
      "display_name": "Python 3"
    },
    "language_info": {
      "name": "python"
    }
  },
  "cells": [
    {
      "cell_type": "markdown",
      "metadata": {
        "id": "view-in-github",
        "colab_type": "text"
      },
      "source": [
        "<a href=\"https://colab.research.google.com/github/yserra28/ai-thoughts/blob/main/AI_thoughts.ipynb\" target=\"_parent\"><img src=\"https://colab.research.google.com/assets/colab-badge.svg\" alt=\"Open In Colab\"/></a>"
      ]
    },
    {
      "cell_type": "code",
      "execution_count": null,
      "metadata": {
        "id": "dbKURjoJRAob"
      },
      "outputs": [],
      "source": []
    },
    {
      "cell_type": "markdown",
      "source": [
        "#My thoughths"
      ],
      "metadata": {
        "id": "ZOdjRFgiRH4T"
      }
    },
    {
      "cell_type": "code",
      "source": [],
      "metadata": {
        "id": "NLnk4fidRHM0"
      },
      "execution_count": null,
      "outputs": []
    }
  ]
}